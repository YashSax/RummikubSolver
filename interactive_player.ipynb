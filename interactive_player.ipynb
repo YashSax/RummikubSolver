{
 "cells": [
  {
   "cell_type": "code",
   "execution_count": 1,
   "metadata": {},
   "outputs": [],
   "source": [
    "from utils import *\n",
    "from player import Player\n",
    "from typing import List"
   ]
  },
  {
   "cell_type": "code",
   "execution_count": 2,
   "metadata": {},
   "outputs": [],
   "source": [
    "looking_for_30 = False\n",
    "player_bank_str = \"\"\"\n",
    "Blue 11\n",
    "Blue 8\n",
    "Blue 8\n",
    "\"\"\".strip()\n",
    "\n",
    "board_str = \"\"\"\n",
    "Red 11\n",
    "Blue 11\n",
    "Orange 11\n",
    "Black 3\n",
    "Black 4\n",
    "Black 5\n",
    "Black 8\n",
    "Black 9\n",
    "Black 10\n",
    "Orange 10\n",
    "Orange 11\n",
    "Orange 12\n",
    "Black 2\n",
    "Blue 2\n",
    "Orange 2\n",
    "Red 2\n",
    "Blue 5\n",
    "Red 5\n",
    "Orange 5\n",
    "Black 9\n",
    "Black 10\n",
    "Black 11\n",
    "Black 12\n",
    "Black 13\n",
    "Blue 10\n",
    "Orange 10\n",
    "Red 10\n",
    "Black 7\n",
    "Orange 7\n",
    "Red 7\n",
    "Red 13\n",
    "Black 13\n",
    "Blue 13\n",
    "Blue 3\n",
    "Joker\n",
    "Blue 5\n",
    "Blue 6\n",
    "\"\"\".strip()\n",
    "\n",
    "str_tiletype_map = {\n",
    "    \"orange\" : TileType.ORANGE,\n",
    "    \"red\" : TileType.RED,\n",
    "    \"blue\" : TileType.BLUE,\n",
    "    \"black\" : TileType.BLACK,\n",
    "    \"joker\" : TileType.JOKER\n",
    "}\n",
    "def tile_strs_to_tiles(tile_strs: List[str]) -> List[Tile]:\n",
    "    ans = set()\n",
    "    previous_tile_strs = []\n",
    "    for tile_str in tile_strs:\n",
    "        seen_tile = tile_str in previous_tile_strs\n",
    "        if tile_str.lower() == \"joker\":\n",
    "            ans.add(Tile(TileType.JOKER, 1 if seen_tile else 2))\n",
    "        else:\n",
    "            color, number = tile_str.split(\" \")\n",
    "            number = int(number)\n",
    "            color = str_tiletype_map[color.lower()]\n",
    "            ans.add(Tile(color, 1 if seen_tile else 2, number))\n",
    "        previous_tile_strs.append(tile_str)\n",
    "    return ans\n",
    "\n",
    "if looking_for_30:\n",
    "    required = []\n",
    "    all_tiles = tile_strs_to_tiles([i.strip() for i in player_bank_str.split(\"\\n\")])\n",
    "else:\n",
    "    required = tile_strs_to_tiles([i.strip() for i in board_str.split(\"\\n\")])\n",
    "    all_tiles = tile_strs_to_tiles([i.strip() for i in (board_str + \"\\n\" + player_bank_str).strip().split(\"\\n\")])\n"
   ]
  },
  {
   "cell_type": "code",
   "execution_count": 3,
   "metadata": {},
   "outputs": [
    {
     "name": "stdout",
     "output_type": "stream",
     "text": [
      "37\n"
     ]
    }
   ],
   "source": [
    "print(len(required))"
   ]
  },
  {
   "cell_type": "code",
   "execution_count": 4,
   "metadata": {},
   "outputs": [
    {
     "name": "stdout",
     "output_type": "stream",
     "text": [
      "Optimizing for tiles\n",
      "Number of required tiles: 37\n"
     ]
    },
    {
     "name": "stderr",
     "output_type": "stream",
     "text": [
      "  1%|▏         | 6/465 [03:54<4:59:16, 39.12s/it]\n"
     ]
    },
    {
     "ename": "KeyboardInterrupt",
     "evalue": "",
     "output_type": "error",
     "traceback": [
      "\u001b[1;31m---------------------------------------------------------------------------\u001b[0m",
      "\u001b[1;31mKeyboardInterrupt\u001b[0m                         Traceback (most recent call last)",
      "Cell \u001b[1;32mIn[4], line 7\u001b[0m\n\u001b[0;32m      5\u001b[0m \u001b[38;5;28;01melse\u001b[39;00m:\n\u001b[0;32m      6\u001b[0m     \u001b[38;5;28mprint\u001b[39m(\u001b[38;5;124m\"\u001b[39m\u001b[38;5;124mOptimizing for tiles\u001b[39m\u001b[38;5;124m\"\u001b[39m)\n\u001b[1;32m----> 7\u001b[0m     chosen_tile_groups \u001b[38;5;241m=\u001b[39m \u001b[43mplayer\u001b[49m\u001b[38;5;241;43m.\u001b[39;49m\u001b[43msearch_groups\u001b[49m\u001b[43m(\u001b[49m\u001b[43mall_tiles\u001b[49m\u001b[43m,\u001b[49m\u001b[43m \u001b[49m\u001b[43mrequired\u001b[49m\u001b[43m,\u001b[49m\u001b[43m \u001b[49m\u001b[38;5;124;43m\"\u001b[39;49m\u001b[38;5;124;43mtiles\u001b[39;49m\u001b[38;5;124;43m\"\u001b[39;49m\u001b[43m)\u001b[49m\n\u001b[0;32m      9\u001b[0m \u001b[38;5;28;01mfor\u001b[39;00m tile_group \u001b[38;5;129;01min\u001b[39;00m chosen_tile_groups:\n\u001b[0;32m     10\u001b[0m     \u001b[38;5;28mprint\u001b[39m(tile_group)\n",
      "File \u001b[1;32mc:\\Yash\\RummikubSolver\\player.py:87\u001b[0m, in \u001b[0;36mPlayer.search_groups\u001b[1;34m(self, tiles, required_tiles, optimize_for)\u001b[0m\n\u001b[0;32m     85\u001b[0m \u001b[38;5;28mself\u001b[39m\u001b[38;5;241m.\u001b[39mstart_time \u001b[38;5;241m=\u001b[39m time\u001b[38;5;241m.\u001b[39mtime()\n\u001b[0;32m     86\u001b[0m \u001b[38;5;28mself\u001b[39m\u001b[38;5;241m.\u001b[39minfo \u001b[38;5;241m=\u001b[39m defaultdict(\u001b[38;5;28mint\u001b[39m)\n\u001b[1;32m---> 87\u001b[0m \u001b[38;5;28;43mself\u001b[39;49m\u001b[38;5;241;43m.\u001b[39;49m\u001b[43msearch_groups_helper\u001b[49m\u001b[43m(\u001b[49m\n\u001b[0;32m     88\u001b[0m \u001b[43m    \u001b[49m\u001b[43mused_tiles\u001b[49m\u001b[38;5;241;43m=\u001b[39;49m\u001b[38;5;28;43mset\u001b[39;49m\u001b[43m(\u001b[49m\u001b[43m)\u001b[49m\u001b[43m,\u001b[49m\n\u001b[0;32m     89\u001b[0m \u001b[43m    \u001b[49m\u001b[43mused_groups\u001b[49m\u001b[38;5;241;43m=\u001b[39;49m\u001b[38;5;28;43mset\u001b[39;49m\u001b[43m(\u001b[49m\u001b[43m)\u001b[49m\u001b[43m,\u001b[49m\n\u001b[0;32m     90\u001b[0m \u001b[43m    \u001b[49m\u001b[43mexisting_groups\u001b[49m\u001b[38;5;241;43m=\u001b[39;49m\u001b[43mall_existing_groups\u001b[49m\u001b[43m,\u001b[49m\n\u001b[0;32m     91\u001b[0m \u001b[43m    \u001b[49m\u001b[43mremaining_required\u001b[49m\u001b[38;5;241;43m=\u001b[39;49m\u001b[43mrequired_tiles\u001b[49m\u001b[43m,\u001b[49m\n\u001b[0;32m     92\u001b[0m \u001b[43m    \u001b[49m\u001b[43mremaining_tiles\u001b[49m\u001b[38;5;241;43m=\u001b[39;49m\u001b[43mtiles\u001b[49m\u001b[43m,\u001b[49m\n\u001b[0;32m     93\u001b[0m \u001b[43m    \u001b[49m\u001b[43moptimize_for\u001b[49m\u001b[38;5;241;43m=\u001b[39;49m\u001b[43moptimize_for\u001b[49m\u001b[43m,\u001b[49m\n\u001b[0;32m     94\u001b[0m \u001b[43m    \u001b[49m\u001b[43mshow_progress\u001b[49m\u001b[38;5;241;43m=\u001b[39;49m\u001b[38;5;28;43;01mTrue\u001b[39;49;00m\n\u001b[0;32m     95\u001b[0m \u001b[43m\u001b[49m\u001b[43m)\u001b[49m\n\u001b[0;32m     97\u001b[0m \u001b[38;5;66;03m# if self.best_value == len(self.required_tiles):\u001b[39;00m\n\u001b[0;32m     98\u001b[0m \u001b[38;5;66;03m#     return None\u001b[39;00m\n\u001b[0;32m    100\u001b[0m best_tile_groups \u001b[38;5;241m=\u001b[39m []\n",
      "File \u001b[1;32mc:\\Yash\\RummikubSolver\\player.py:182\u001b[0m, in \u001b[0;36mPlayer.search_groups_helper\u001b[1;34m(self, used_tiles, used_groups, existing_groups, remaining_required, remaining_tiles, optimize_for, show_progress)\u001b[0m\n\u001b[0;32m    180\u001b[0m used_tiles \u001b[38;5;241m|\u001b[39m\u001b[38;5;241m=\u001b[39m tiles_added\n\u001b[0;32m    181\u001b[0m used_groups\u001b[38;5;241m.\u001b[39madd(group)\n\u001b[1;32m--> 182\u001b[0m num_tiles_used, resulting_groups \u001b[38;5;241m=\u001b[39m \u001b[38;5;28;43mself\u001b[39;49m\u001b[38;5;241;43m.\u001b[39;49m\u001b[43msearch_groups_helper\u001b[49m\u001b[43m(\u001b[49m\n\u001b[0;32m    183\u001b[0m \u001b[43m    \u001b[49m\u001b[43mused_tiles\u001b[49m\u001b[38;5;241;43m=\u001b[39;49m\u001b[43mused_tiles\u001b[49m\u001b[43m,\u001b[49m\n\u001b[0;32m    184\u001b[0m \u001b[43m    \u001b[49m\u001b[43mused_groups\u001b[49m\u001b[38;5;241;43m=\u001b[39;49m\u001b[43mused_groups\u001b[49m\u001b[43m,\u001b[49m\n\u001b[0;32m    185\u001b[0m \u001b[43m    \u001b[49m\u001b[43mexisting_groups\u001b[49m\u001b[38;5;241;43m=\u001b[39;49m\u001b[43mremaining_groups\u001b[49m\u001b[43m,\u001b[49m\n\u001b[0;32m    186\u001b[0m \u001b[43m    \u001b[49m\u001b[43mremaining_required\u001b[49m\u001b[38;5;241;43m=\u001b[39;49m\u001b[43mremaining_required\u001b[49m\u001b[43m \u001b[49m\u001b[38;5;241;43m-\u001b[39;49m\u001b[43m \u001b[49m\u001b[43mtiles_added\u001b[49m\u001b[43m,\u001b[49m\n\u001b[0;32m    187\u001b[0m \u001b[43m    \u001b[49m\u001b[43mremaining_tiles\u001b[49m\u001b[38;5;241;43m=\u001b[39;49m\u001b[43mremaining_tiles\u001b[49m\u001b[43m \u001b[49m\u001b[38;5;241;43m-\u001b[39;49m\u001b[43m \u001b[49m\u001b[43mtiles_added\u001b[49m\u001b[43m,\u001b[49m\n\u001b[0;32m    188\u001b[0m \u001b[43m    \u001b[49m\u001b[43moptimize_for\u001b[49m\u001b[38;5;241;43m=\u001b[39;49m\u001b[43moptimize_for\u001b[49m\n\u001b[0;32m    189\u001b[0m \u001b[43m\u001b[49m\u001b[43m)\u001b[49m\n\u001b[0;32m    190\u001b[0m used_tiles \u001b[38;5;241m-\u001b[39m\u001b[38;5;241m=\u001b[39m tiles_added\n\u001b[0;32m    191\u001b[0m used_groups\u001b[38;5;241m.\u001b[39mremove(group)\n",
      "File \u001b[1;32mc:\\Yash\\RummikubSolver\\player.py:182\u001b[0m, in \u001b[0;36mPlayer.search_groups_helper\u001b[1;34m(self, used_tiles, used_groups, existing_groups, remaining_required, remaining_tiles, optimize_for, show_progress)\u001b[0m\n\u001b[0;32m    180\u001b[0m used_tiles \u001b[38;5;241m|\u001b[39m\u001b[38;5;241m=\u001b[39m tiles_added\n\u001b[0;32m    181\u001b[0m used_groups\u001b[38;5;241m.\u001b[39madd(group)\n\u001b[1;32m--> 182\u001b[0m num_tiles_used, resulting_groups \u001b[38;5;241m=\u001b[39m \u001b[38;5;28;43mself\u001b[39;49m\u001b[38;5;241;43m.\u001b[39;49m\u001b[43msearch_groups_helper\u001b[49m\u001b[43m(\u001b[49m\n\u001b[0;32m    183\u001b[0m \u001b[43m    \u001b[49m\u001b[43mused_tiles\u001b[49m\u001b[38;5;241;43m=\u001b[39;49m\u001b[43mused_tiles\u001b[49m\u001b[43m,\u001b[49m\n\u001b[0;32m    184\u001b[0m \u001b[43m    \u001b[49m\u001b[43mused_groups\u001b[49m\u001b[38;5;241;43m=\u001b[39;49m\u001b[43mused_groups\u001b[49m\u001b[43m,\u001b[49m\n\u001b[0;32m    185\u001b[0m \u001b[43m    \u001b[49m\u001b[43mexisting_groups\u001b[49m\u001b[38;5;241;43m=\u001b[39;49m\u001b[43mremaining_groups\u001b[49m\u001b[43m,\u001b[49m\n\u001b[0;32m    186\u001b[0m \u001b[43m    \u001b[49m\u001b[43mremaining_required\u001b[49m\u001b[38;5;241;43m=\u001b[39;49m\u001b[43mremaining_required\u001b[49m\u001b[43m \u001b[49m\u001b[38;5;241;43m-\u001b[39;49m\u001b[43m \u001b[49m\u001b[43mtiles_added\u001b[49m\u001b[43m,\u001b[49m\n\u001b[0;32m    187\u001b[0m \u001b[43m    \u001b[49m\u001b[43mremaining_tiles\u001b[49m\u001b[38;5;241;43m=\u001b[39;49m\u001b[43mremaining_tiles\u001b[49m\u001b[43m \u001b[49m\u001b[38;5;241;43m-\u001b[39;49m\u001b[43m \u001b[49m\u001b[43mtiles_added\u001b[49m\u001b[43m,\u001b[49m\n\u001b[0;32m    188\u001b[0m \u001b[43m    \u001b[49m\u001b[43moptimize_for\u001b[49m\u001b[38;5;241;43m=\u001b[39;49m\u001b[43moptimize_for\u001b[49m\n\u001b[0;32m    189\u001b[0m \u001b[43m\u001b[49m\u001b[43m)\u001b[49m\n\u001b[0;32m    190\u001b[0m used_tiles \u001b[38;5;241m-\u001b[39m\u001b[38;5;241m=\u001b[39m tiles_added\n\u001b[0;32m    191\u001b[0m used_groups\u001b[38;5;241m.\u001b[39mremove(group)\n",
      "    \u001b[1;31m[... skipping similar frames: Player.search_groups_helper at line 182 (2 times)]\u001b[0m\n",
      "File \u001b[1;32mc:\\Yash\\RummikubSolver\\player.py:182\u001b[0m, in \u001b[0;36mPlayer.search_groups_helper\u001b[1;34m(self, used_tiles, used_groups, existing_groups, remaining_required, remaining_tiles, optimize_for, show_progress)\u001b[0m\n\u001b[0;32m    180\u001b[0m used_tiles \u001b[38;5;241m|\u001b[39m\u001b[38;5;241m=\u001b[39m tiles_added\n\u001b[0;32m    181\u001b[0m used_groups\u001b[38;5;241m.\u001b[39madd(group)\n\u001b[1;32m--> 182\u001b[0m num_tiles_used, resulting_groups \u001b[38;5;241m=\u001b[39m \u001b[38;5;28;43mself\u001b[39;49m\u001b[38;5;241;43m.\u001b[39;49m\u001b[43msearch_groups_helper\u001b[49m\u001b[43m(\u001b[49m\n\u001b[0;32m    183\u001b[0m \u001b[43m    \u001b[49m\u001b[43mused_tiles\u001b[49m\u001b[38;5;241;43m=\u001b[39;49m\u001b[43mused_tiles\u001b[49m\u001b[43m,\u001b[49m\n\u001b[0;32m    184\u001b[0m \u001b[43m    \u001b[49m\u001b[43mused_groups\u001b[49m\u001b[38;5;241;43m=\u001b[39;49m\u001b[43mused_groups\u001b[49m\u001b[43m,\u001b[49m\n\u001b[0;32m    185\u001b[0m \u001b[43m    \u001b[49m\u001b[43mexisting_groups\u001b[49m\u001b[38;5;241;43m=\u001b[39;49m\u001b[43mremaining_groups\u001b[49m\u001b[43m,\u001b[49m\n\u001b[0;32m    186\u001b[0m \u001b[43m    \u001b[49m\u001b[43mremaining_required\u001b[49m\u001b[38;5;241;43m=\u001b[39;49m\u001b[43mremaining_required\u001b[49m\u001b[43m \u001b[49m\u001b[38;5;241;43m-\u001b[39;49m\u001b[43m \u001b[49m\u001b[43mtiles_added\u001b[49m\u001b[43m,\u001b[49m\n\u001b[0;32m    187\u001b[0m \u001b[43m    \u001b[49m\u001b[43mremaining_tiles\u001b[49m\u001b[38;5;241;43m=\u001b[39;49m\u001b[43mremaining_tiles\u001b[49m\u001b[43m \u001b[49m\u001b[38;5;241;43m-\u001b[39;49m\u001b[43m \u001b[49m\u001b[43mtiles_added\u001b[49m\u001b[43m,\u001b[49m\n\u001b[0;32m    188\u001b[0m \u001b[43m    \u001b[49m\u001b[43moptimize_for\u001b[49m\u001b[38;5;241;43m=\u001b[39;49m\u001b[43moptimize_for\u001b[49m\n\u001b[0;32m    189\u001b[0m \u001b[43m\u001b[49m\u001b[43m)\u001b[49m\n\u001b[0;32m    190\u001b[0m used_tiles \u001b[38;5;241m-\u001b[39m\u001b[38;5;241m=\u001b[39m tiles_added\n\u001b[0;32m    191\u001b[0m used_groups\u001b[38;5;241m.\u001b[39mremove(group)\n",
      "File \u001b[1;32mc:\\Yash\\RummikubSolver\\player.py:122\u001b[0m, in \u001b[0;36mPlayer.search_groups_helper\u001b[1;34m(self, used_tiles, used_groups, existing_groups, remaining_required, remaining_tiles, optimize_for, show_progress)\u001b[0m\n\u001b[0;32m    119\u001b[0m \u001b[38;5;28mself\u001b[39m\u001b[38;5;241m.\u001b[39mcache\u001b[38;5;241m.\u001b[39madd(cache_key)\n\u001b[0;32m    121\u001b[0m \u001b[38;5;66;03m# Optimization #2: Cache over the remaining tiles.\u001b[39;00m\n\u001b[1;32m--> 122\u001b[0m remaining_tiles_cache_key \u001b[38;5;241m=\u001b[39m \u001b[38;5;28mtuple\u001b[39m(\u001b[38;5;28;43msorted\u001b[39;49m\u001b[43m(\u001b[49m\u001b[43mremaining_tiles\u001b[49m\u001b[43m,\u001b[49m\u001b[43m \u001b[49m\u001b[43mkey\u001b[49m\u001b[38;5;241;43m=\u001b[39;49m\u001b[38;5;28;43;01mlambda\u001b[39;49;00m\u001b[43m \u001b[49m\u001b[43mtile\u001b[49m\u001b[43m:\u001b[49m\u001b[43m \u001b[49m\u001b[43mtile\u001b[49m\u001b[38;5;241;43m.\u001b[39;49m\u001b[43mhash_no_tile_id\u001b[49m\u001b[43m(\u001b[49m\u001b[43m)\u001b[49m\u001b[43m)\u001b[49m)\n\u001b[0;32m    123\u001b[0m \u001b[38;5;28;01mif\u001b[39;00m optimize_for \u001b[38;5;241m==\u001b[39m \u001b[38;5;124m\"\u001b[39m\u001b[38;5;124mtiles\u001b[39m\u001b[38;5;124m\"\u001b[39m:\n\u001b[0;32m    124\u001b[0m     \u001b[38;5;28;01mif\u001b[39;00m remaining_tiles_cache_key \u001b[38;5;129;01min\u001b[39;00m \u001b[38;5;28mself\u001b[39m\u001b[38;5;241m.\u001b[39mremaining_tiles_cache:\n",
      "File \u001b[1;32mc:\\Yash\\RummikubSolver\\player.py:122\u001b[0m, in \u001b[0;36mPlayer.search_groups_helper.<locals>.<lambda>\u001b[1;34m(tile)\u001b[0m\n\u001b[0;32m    119\u001b[0m \u001b[38;5;28mself\u001b[39m\u001b[38;5;241m.\u001b[39mcache\u001b[38;5;241m.\u001b[39madd(cache_key)\n\u001b[0;32m    121\u001b[0m \u001b[38;5;66;03m# Optimization #2: Cache over the remaining tiles.\u001b[39;00m\n\u001b[1;32m--> 122\u001b[0m remaining_tiles_cache_key \u001b[38;5;241m=\u001b[39m \u001b[38;5;28mtuple\u001b[39m(\u001b[38;5;28msorted\u001b[39m(remaining_tiles, key\u001b[38;5;241m=\u001b[39m\u001b[38;5;28;01mlambda\u001b[39;00m tile: \u001b[43mtile\u001b[49m\u001b[38;5;241;43m.\u001b[39;49m\u001b[43mhash_no_tile_id\u001b[49m\u001b[43m(\u001b[49m\u001b[43m)\u001b[49m))\n\u001b[0;32m    123\u001b[0m \u001b[38;5;28;01mif\u001b[39;00m optimize_for \u001b[38;5;241m==\u001b[39m \u001b[38;5;124m\"\u001b[39m\u001b[38;5;124mtiles\u001b[39m\u001b[38;5;124m\"\u001b[39m:\n\u001b[0;32m    124\u001b[0m     \u001b[38;5;28;01mif\u001b[39;00m remaining_tiles_cache_key \u001b[38;5;129;01min\u001b[39;00m \u001b[38;5;28mself\u001b[39m\u001b[38;5;241m.\u001b[39mremaining_tiles_cache:\n",
      "File \u001b[1;32mc:\\Yash\\RummikubSolver\\utils.py:40\u001b[0m, in \u001b[0;36mTile.hash_no_tile_id\u001b[1;34m(self)\u001b[0m\n\u001b[0;32m     37\u001b[0m \u001b[38;5;28;01mdef\u001b[39;00m \u001b[38;5;21m__hash__\u001b[39m(\u001b[38;5;28mself\u001b[39m):\n\u001b[0;32m     38\u001b[0m     \u001b[38;5;28;01mreturn\u001b[39;00m \u001b[38;5;28mhash\u001b[39m((\u001b[38;5;28mself\u001b[39m\u001b[38;5;241m.\u001b[39mtile_type, \u001b[38;5;28mself\u001b[39m\u001b[38;5;241m.\u001b[39mtile_id, \u001b[38;5;28mself\u001b[39m\u001b[38;5;241m.\u001b[39mnumber))\n\u001b[1;32m---> 40\u001b[0m \u001b[38;5;28;01mdef\u001b[39;00m \u001b[38;5;21mhash_no_tile_id\u001b[39m(\u001b[38;5;28mself\u001b[39m):\n\u001b[0;32m     41\u001b[0m     \u001b[38;5;28;01mreturn\u001b[39;00m \u001b[38;5;28mhash\u001b[39m((\u001b[38;5;28mself\u001b[39m\u001b[38;5;241m.\u001b[39mtile_type, \u001b[38;5;28mself\u001b[39m\u001b[38;5;241m.\u001b[39mnumber))\n",
      "\u001b[1;31mKeyboardInterrupt\u001b[0m: "
     ]
    }
   ],
   "source": [
    "player = Player(0, [])\n",
    "\n",
    "if looking_for_30:\n",
    "    chosen_tile_groups = player.search_groups(all_tiles, required, \"sum\")\n",
    "else:\n",
    "    print(\"Optimizing for tiles\")\n",
    "    chosen_tile_groups = player.search_groups(all_tiles, required, \"tiles\")\n",
    "\n",
    "for tile_group in chosen_tile_groups:\n",
    "    print(tile_group)"
   ]
  },
  {
   "cell_type": "code",
   "execution_count": null,
   "metadata": {},
   "outputs": [],
   "source": []
  }
 ],
 "metadata": {
  "kernelspec": {
   "display_name": "Python 3",
   "language": "python",
   "name": "python3"
  },
  "language_info": {
   "codemirror_mode": {
    "name": "ipython",
    "version": 3
   },
   "file_extension": ".py",
   "mimetype": "text/x-python",
   "name": "python",
   "nbconvert_exporter": "python",
   "pygments_lexer": "ipython3",
   "version": "3.10.2"
  }
 },
 "nbformat": 4,
 "nbformat_minor": 2
}

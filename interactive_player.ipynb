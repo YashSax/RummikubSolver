{
 "cells": [
  {
   "cell_type": "code",
   "execution_count": 1,
   "metadata": {},
   "outputs": [],
   "source": [
    "from utils import *\n",
    "from player import Player\n",
    "from typing import List"
   ]
  },
  {
   "cell_type": "code",
   "execution_count": 8,
   "metadata": {},
   "outputs": [],
   "source": [
    "looking_for_30 = False\n",
    "player_bank_str = \"\"\"\n",
    "Orange 4\n",
    "Black 2\n",
    "Blue 12\n",
    "Blue 9\n",
    "Orange 1\n",
    "\"\"\".strip()\n",
    "\n",
    "board_str = \"\"\"\n",
    "Orange 10\n",
    "Red 10\n",
    "Blue 6\n",
    "Orange 12\n",
    "Blue 4\n",
    "Red 2\n",
    "Orange 9\n",
    "Red 9\n",
    "Blue 9\n",
    "Red 12\n",
    "Black 10\n",
    "Black 12\n",
    "Orange 13\n",
    "Blue 12\n",
    "Black 12\n",
    "Red 13\n",
    "Blue 13\n",
    "Black 11\n",
    "Blue 11\n",
    "Orange 11\n",
    "Orange 1\n",
    "Black 1\n",
    "Red 4\n",
    "Blue 2\n",
    "Blue 3\n",
    "Blue 4\n",
    "Blue 13\n",
    "Orange 13\n",
    "Red 13\n",
    "Orange 5\n",
    "Black 5\n",
    "Blue 5\n",
    "Blue 7\n",
    "Orange 7\n",
    "Red 7\n",
    "Red 1\n",
    "Joker\n",
    "Red 3\n",
    "Red 5\n",
    "Red 6\n",
    "Red 7\n",
    "Red 8\n",
    "Red 9\n",
    "\"\"\".strip()\n",
    "\n",
    "str_tiletype_map = {\n",
    "    \"orange\" : TileType.ORANGE,\n",
    "    \"red\" : TileType.RED,\n",
    "    \"blue\" : TileType.BLUE,\n",
    "    \"black\" : TileType.BLACK,\n",
    "    \"joker\" : TileType.JOKER\n",
    "}\n",
    "def tile_strs_to_tiles(tile_strs: List[str]) -> List[Tile]:\n",
    "    ans = set()\n",
    "    previous_tile_strs = []\n",
    "    for tile_str in tile_strs:\n",
    "        seen_tile = tile_str in previous_tile_strs\n",
    "        if tile_str.lower() == \"joker\":\n",
    "            ans.add(Tile(TileType.JOKER, 1 if seen_tile else 2))\n",
    "        else:\n",
    "            color, number = tile_str.split(\" \")\n",
    "            number = int(number)\n",
    "            color = str_tiletype_map[color.lower()]\n",
    "            ans.add(Tile(color, 1 if seen_tile else 2, number))\n",
    "        previous_tile_strs.append(tile_str)\n",
    "    return ans\n",
    "\n",
    "if looking_for_30:\n",
    "    required = []\n",
    "    all_tiles = tile_strs_to_tiles([i.strip() for i in player_bank_str.split(\"\\n\")])\n",
    "else:\n",
    "    required = tile_strs_to_tiles([i.strip() for i in board_str.split(\"\\n\")])\n",
    "    all_tiles = tile_strs_to_tiles([i.strip() for i in (board_str + \"\\n\" + player_bank_str).strip().split(\"\\n\")])\n"
   ]
  },
  {
   "cell_type": "code",
   "execution_count": 9,
   "metadata": {},
   "outputs": [
    {
     "name": "stdout",
     "output_type": "stream",
     "text": [
      "43\n"
     ]
    }
   ],
   "source": [
    "print(len(required))"
   ]
  },
  {
   "cell_type": "code",
   "execution_count": 10,
   "metadata": {},
   "outputs": [
    {
     "name": "stdout",
     "output_type": "stream",
     "text": [
      "Optimizing for tiles\n",
      "Number of required tiles: 43\n"
     ]
    },
    {
     "name": "stderr",
     "output_type": "stream",
     "text": [
      "  0%|          | 0/599 [00:00<?, ?it/s]"
     ]
    }
   ],
   "source": [
    "player = Player(0, [])\n",
    "\n",
    "if looking_for_30:\n",
    "    chosen_tile_groups = player.search_groups(set(all_tiles), set(required), \"sum\")\n",
    "else:\n",
    "    print(\"Optimizing for tiles\")\n",
    "    chosen_tile_groups = player.search_groups(all_tiles, required, \"tiles\")\n",
    "\n",
    "for tile_group in chosen_tile_groups:\n",
    "    print(tile_group)"
   ]
  },
  {
   "cell_type": "code",
   "execution_count": null,
   "metadata": {},
   "outputs": [],
   "source": []
  }
 ],
 "metadata": {
  "kernelspec": {
   "display_name": "Python 3",
   "language": "python",
   "name": "python3"
  },
  "language_info": {
   "codemirror_mode": {
    "name": "ipython",
    "version": 3
   },
   "file_extension": ".py",
   "mimetype": "text/x-python",
   "name": "python",
   "nbconvert_exporter": "python",
   "pygments_lexer": "ipython3",
   "version": "3.10.2"
  }
 },
 "nbformat": 4,
 "nbformat_minor": 2
}
